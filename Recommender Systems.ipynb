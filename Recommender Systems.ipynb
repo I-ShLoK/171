{
 "cells": [
  {
   "cell_type": "code",
   "execution_count": 3,
   "id": "132b9137-bcd3-49df-b451-b0470c80aaeb",
   "metadata": {},
   "outputs": [],
   "source": [
    "import numpy as np\n",
    "from scipy.spatial.distance import cosine, euclidean\n",
    "from scipy.stats import pearsonr"
   ]
  },
  {
   "cell_type": "code",
   "execution_count": 7,
   "id": "1cc9a991-d65a-4c8a-847d-87b02293c64c",
   "metadata": {},
   "outputs": [],
   "source": [
    "#Sample user rating data\n",
    "user1 = np.array([4, 5, 2, 3, 4])\n",
    "user2 = np.array([5, 3, 2, 4, 5])"
   ]
  },
  {
   "cell_type": "code",
   "execution_count": 11,
   "id": "accbf7ee-898b-4a0e-a391-fa3943c4886c",
   "metadata": {},
   "outputs": [
    {
     "name": "stdout",
     "output_type": "stream",
     "text": [
      "Cosine Similarity: 0.9548\n"
     ]
    }
   ],
   "source": [
    "# 1. Cosine Similarity; (1 - cosine distance) gives similarity)\n",
    "cosine_similarity = 1 - cosine(user1, user2)\n",
    "print(f\"Cosine Similarity: {cosine_similarity:.4f}\")"
   ]
  },
  {
   "cell_type": "code",
   "execution_count": 20,
   "id": "f538e350-4a99-456c-9fa3-2280bc48c4d6",
   "metadata": {},
   "outputs": [
    {
     "name": "stdout",
     "output_type": "stream",
     "text": [
      "Pearson Correlation Similarity: 0.4372\n"
     ]
    }
   ],
   "source": [
    "# 2. Pearson Correlation Similarity which returns correlation coefficient and p-valu\n",
    "pearson_corr, _ = pearsonr(user1, user2)\n",
    "print(f\"Pearson Correlation Similarity: {pearson_corr:.4f}\")"
   ]
  },
  {
   "cell_type": "code",
   "execution_count": 22,
   "id": "1ce2073c-73c7-4736-8d8f-20b498b34490",
   "metadata": {},
   "outputs": [
    {
     "name": "stdout",
     "output_type": "stream",
     "text": [
      "Euclidean Distance Similarity: 0.2743\n"
     ]
    }
   ],
   "source": [
    "#3. Euclidean Distance Similarity\n",
    "euclidean_distance = euclidean(user1, user2)\n",
    "euclidean_similarity = 1/ (1 + euclidean_distance) #Normalize to similarity range\n",
    "print(f\"Euclidean Distance Similarity: {euclidean_similarity:.4f}\")"
   ]
  },
  {
   "cell_type": "code",
   "execution_count": 28,
   "id": "368a37ae-3761-43f0-afee-c9561a9e5d29",
   "metadata": {},
   "outputs": [],
   "source": [
    "user_raju = np.array([5, 3, 4, 4, 2])\n",
    "user_john = np.array([3, 1, 2, 3, 3])"
   ]
  },
  {
   "cell_type": "code",
   "execution_count": 30,
   "id": "f9dc0459-767a-4834-b39d-194c3cd514e0",
   "metadata": {},
   "outputs": [
    {
     "name": "stdout",
     "output_type": "stream",
     "text": [
      "Cosine Similarity: 0.9297\n"
     ]
    }
   ],
   "source": [
    "cosine_similarity = 1 - cosine(user_raju, user_john)\n",
    "print(f\"Cosine Similarity: {cosine_similarity:.4f}\")"
   ]
  },
  {
   "cell_type": "code",
   "execution_count": 34,
   "id": "77c6cabb-4f61-4fe0-b830-7ea20b2998a9",
   "metadata": {},
   "outputs": [],
   "source": [
    "user_ramya = np.array([4, 3, 4, 5, 1])\n",
    "user_kishore = np.array([2, 2, 1, 2, 4])"
   ]
  },
  {
   "cell_type": "code",
   "execution_count": 36,
   "id": "5c81045c-9af3-4c7f-b2cc-3dd1578967dd",
   "metadata": {},
   "outputs": [
    {
     "name": "stdout",
     "output_type": "stream",
     "text": [
      "Cosine Similarity: 0.7260\n"
     ]
    }
   ],
   "source": [
    "cosine_similarity = 1 - cosine(user_ramya, user_kishore)\n",
    "print(f\"Cosine Similarity: {cosine_similarity:.4f}\")"
   ]
  },
  {
   "cell_type": "code",
   "execution_count": null,
   "id": "2fe60c70-107e-450a-885e-c019c466ed77",
   "metadata": {},
   "outputs": [],
   "source": []
  }
 ],
 "metadata": {
  "kernelspec": {
   "display_name": "Python [conda env:base] *",
   "language": "python",
   "name": "conda-base-py"
  },
  "language_info": {
   "codemirror_mode": {
    "name": "ipython",
    "version": 3
   },
   "file_extension": ".py",
   "mimetype": "text/x-python",
   "name": "python",
   "nbconvert_exporter": "python",
   "pygments_lexer": "ipython3",
   "version": "3.12.7"
  }
 },
 "nbformat": 4,
 "nbformat_minor": 5
}
