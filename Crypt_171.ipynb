{
 "cells": [
  {
   "cell_type": "code",
   "execution_count": 1,
   "id": "61c6adff-f908-4aba-9832-773014c9cd88",
   "metadata": {},
   "outputs": [
    {
     "data": {
      "text/plain": [
       "['__class__',\n",
       " '__class_getitem__',\n",
       " '__contains__',\n",
       " '__delattr__',\n",
       " '__delitem__',\n",
       " '__dir__',\n",
       " '__doc__',\n",
       " '__eq__',\n",
       " '__format__',\n",
       " '__ge__',\n",
       " '__getattribute__',\n",
       " '__getitem__',\n",
       " '__getstate__',\n",
       " '__gt__',\n",
       " '__hash__',\n",
       " '__init__',\n",
       " '__init_subclass__',\n",
       " '__ior__',\n",
       " '__iter__',\n",
       " '__le__',\n",
       " '__len__',\n",
       " '__lt__',\n",
       " '__ne__',\n",
       " '__new__',\n",
       " '__or__',\n",
       " '__reduce__',\n",
       " '__reduce_ex__',\n",
       " '__repr__',\n",
       " '__reversed__',\n",
       " '__ror__',\n",
       " '__setattr__',\n",
       " '__setitem__',\n",
       " '__sizeof__',\n",
       " '__str__',\n",
       " '__subclasshook__',\n",
       " 'clear',\n",
       " 'copy',\n",
       " 'fromkeys',\n",
       " 'get',\n",
       " 'items',\n",
       " 'keys',\n",
       " 'pop',\n",
       " 'popitem',\n",
       " 'setdefault',\n",
       " 'update',\n",
       " 'values']"
      ]
     },
     "execution_count": 1,
     "metadata": {},
     "output_type": "execute_result"
    }
   ],
   "source": [
    " dir(dict)\n"
   ]
  },
  {
   "cell_type": "code",
   "execution_count": 7,
   "id": "79f301ac-0244-4cbe-8844-734103232bfd",
   "metadata": {},
   "outputs": [
    {
     "name": "stdout",
     "output_type": "stream",
     "text": [
      "{'Virat': 90, 'Rohit': 100, 'Rahul': 70, 'Hardik': 9, 'Gill': 20, 'Jadeja': 30, 'Siraz': 15, 'Aswin': 15}\n"
     ]
    }
   ],
   "source": [
    "scores={\"Virat\":90,\n",
    "        \"Rohit\":100,\n",
    "        \"Rahul\":70,\n",
    "        \"Hardik\":9,\n",
    "        \"Gill\":20,\n",
    "        \"Jadeja\":30,\n",
    "        \"Siraz\":15}\n",
    "scores[\"Aswin\"]=15\n",
    "print(scores)"
   ]
  },
  {
   "cell_type": "code",
   "execution_count": 4,
   "id": "05cd4f57-eadd-45f0-bd64-4b456b4d220a",
   "metadata": {
    "jupyter": {
     "source_hidden": true
    }
   },
   "outputs": [
    {
     "data": {
      "text/plain": [
       "{'Virat': 90,\n",
       " 'Rohit': 100,\n",
       " 'Rahul': 70,\n",
       " 'Hardik': 9,\n",
       " 'Gill': 20,\n",
       " 'Jadeja': 50,\n",
       " 'Siraz': 15}"
      ]
     },
     "execution_count": 4,
     "metadata": {},
     "output_type": "execute_result"
    }
   ],
   "source": [
    "scores={\"Virat\":90,\n",
    "        \"Rohit\":100,\n",
    "        \"Rahul\":70,\n",
    "        \"Hardik\":9,\n",
    "        \"Gill\":20,\n",
    "        \"Jadeja\":30,\n",
    "        \"Siraz\":15}\n",
    "scores.update({\"Jadeja\":50})\n",
    "scores\n",
    "              "
   ]
  },
  {
   "cell_type": "code",
   "execution_count": 6,
   "id": "7ff9fea3-86ac-490c-af1d-3719ff7fc32e",
   "metadata": {},
   "outputs": [
    {
     "data": {
      "text/plain": [
       "{'Virat': 90,\n",
       " 'Rohit': 100,\n",
       " 'Rahul': 70,\n",
       " 'Hardik': 65,\n",
       " 'Gill': 20,\n",
       " 'Jadeja': 50,\n",
       " 'Siraz': 15,\n",
       " 'Rahane': 45}"
      ]
     },
     "execution_count": 6,
     "metadata": {},
     "output_type": "execute_result"
    }
   ],
   "source": [
    "scores.update({\"Hardik\":65,\"Rahane\":45})\n",
    "scores\n"
   ]
  },
  {
   "cell_type": "code",
   "execution_count": 10,
   "id": "c2957eee-9c51-4b2c-aa83-db45fdca2c69",
   "metadata": {},
   "outputs": [
    {
     "data": {
      "text/plain": [
       "{'Virat': 90,\n",
       " 'Rohit': 100,\n",
       " 'Rahul': 70,\n",
       " 'Hardik': 65,\n",
       " 'Gill': 20,\n",
       " 'Jadeja': 50,\n",
       " 'Siraz': 15,\n",
       " 'Rahane': 45}"
      ]
     },
     "execution_count": 10,
     "metadata": {},
     "output_type": "execute_result"
    }
   ],
   "source": [
    "scores.setdefault(\"Rahul\",60)\n",
    "scores"
   ]
  },
  {
   "cell_type": "code",
   "execution_count": 12,
   "id": "55834a41-2f22-4384-b984-88de1a9bbd1c",
   "metadata": {},
   "outputs": [
    {
     "data": {
      "text/plain": [
       "{'Virat': 90,\n",
       " 'Rohit': 100,\n",
       " 'Rahul': 70,\n",
       " 'Hardik': 65,\n",
       " 'Gill': 20,\n",
       " 'Jadeja': 50,\n",
       " 'Siraz': 15,\n",
       " 'Rahane': 45,\n",
       " 'Pujara': 50}"
      ]
     },
     "execution_count": 12,
     "metadata": {},
     "output_type": "execute_result"
    }
   ],
   "source": [
    "scores.setdefault(\"Pujara\",50)\n",
    "scores\n"
   ]
  },
  {
   "cell_type": "code",
   "execution_count": 14,
   "id": "042268e1-7e6b-4455-9f9f-1c2c548de6c3",
   "metadata": {},
   "outputs": [
    {
     "data": {
      "text/plain": [
       "{'Virat': 90,\n",
       " 'Rohit': 100,\n",
       " 'Rahul': 70,\n",
       " 'Hardik': 65,\n",
       " 'Gill': 20,\n",
       " 'Jadeja': 50,\n",
       " 'Siraz': 15,\n",
       " 'Rahane': 45}"
      ]
     },
     "execution_count": 14,
     "metadata": {},
     "output_type": "execute_result"
    }
   ],
   "source": [
    "scores.popitem()\n",
    "scores"
   ]
  },
  {
   "cell_type": "code",
   "execution_count": 22,
   "id": "d20d4da3-44fa-4f0e-8b3b-23c18cea712d",
   "metadata": {},
   "outputs": [
    {
     "data": {
      "text/plain": [
       "{'Virat': 90,\n",
       " 'Rohit': 100,\n",
       " 'Rahul': 70,\n",
       " 'Hardik': 65,\n",
       " 'Gill': 20,\n",
       " 'Siraz': 15,\n",
       " 'Rahane': 45}"
      ]
     },
     "execution_count": 22,
     "metadata": {},
     "output_type": "execute_result"
    }
   ],
   "source": [
    "scores.pop(\"Jadeja\",50)\n",
    "scores\n"
   ]
  },
  {
   "cell_type": "code",
   "execution_count": 24,
   "id": "c45d8adb-7c6b-40c6-9e0c-ea979715f395",
   "metadata": {},
   "outputs": [
    {
     "data": {
      "text/plain": [
       "15"
      ]
     },
     "execution_count": 24,
     "metadata": {},
     "output_type": "execute_result"
    }
   ],
   "source": [
    "scores.get(\"Siraz\")"
   ]
  },
  {
   "cell_type": "code",
   "execution_count": 28,
   "id": "6cccab97-bda8-440a-8922-a4ac1c1ba021",
   "metadata": {},
   "outputs": [
    {
     "data": {
      "text/plain": [
       "{'A': None, 'B': None, 'C': None, 'D': None}"
      ]
     },
     "execution_count": 28,
     "metadata": {},
     "output_type": "execute_result"
    }
   ],
   "source": [
    "list1=[\"A\",\"B\",\"C\",\"D\"]\n",
    "my_dict=dict.fromkeys(list1)\n",
    "my_dict"
   ]
  },
  {
   "cell_type": "code",
   "execution_count": 36,
   "id": "1d6a6d55-24eb-463a-9e7d-4466e6bcb430",
   "metadata": {},
   "outputs": [
    {
     "data": {
      "text/plain": [
       "{'A': 20, 'B': None, 'C': None, 'D': None}"
      ]
     },
     "execution_count": 36,
     "metadata": {},
     "output_type": "execute_result"
    }
   ],
   "source": [
    "list1=[\"A\",\"B\",\"C\",\"D\"]\n",
    "my_dict=dict.fromkeys(list1)\n",
    "my_dict.update({\"A\":20})\n",
    "my_dict"
   ]
  },
  {
   "cell_type": "code",
   "execution_count": 38,
   "id": "bb6eefa5-21e1-4171-9dd4-4cfb9714dec0",
   "metadata": {},
   "outputs": [
    {
     "data": {
      "text/plain": [
       "{'Virat': 90,\n",
       " 'Rohit': 100,\n",
       " 'Rahul': 70,\n",
       " 'Hardik': 19,\n",
       " 'Gill': 20,\n",
       " 'Siraz': 15,\n",
       " 'Rahane': 45}"
      ]
     },
     "execution_count": 38,
     "metadata": {},
     "output_type": "execute_result"
    }
   ],
   "source": [
    "for k in scores.keys():\n",
    "    if k =='Hardik':\n",
    "        scores[k]=19\n",
    "scores"
   ]
  },
  {
   "cell_type": "code",
   "execution_count": 42,
   "id": "a3bfd856-c138-45d7-b571-c06123b6f683",
   "metadata": {},
   "outputs": [
    {
     "name": "stdout",
     "output_type": "stream",
     "text": [
      "[90, 100, 70, 19, 20, 15, 45]\n",
      "Total Score:  359\n"
     ]
    }
   ],
   "source": [
    "scores_list=[]\n",
    "for v in scores.values():\n",
    "    scores_list.append(v)\n",
    "print(scores_list)\n",
    "print(\"Total Score: \",sum(scores_list))"
   ]
  },
  {
   "cell_type": "code",
   "execution_count": null,
   "id": "a50b0bc7-4f87-45c5-9af0-a9bd3b5b0f36",
   "metadata": {},
   "outputs": [],
   "source": [
    "#sets(07-01-2025)\n",
    "#unorderd\n",
    "#mutable\n",
    "#unique values\n",
    "#no indexing "
   ]
  },
  {
   "cell_type": "code",
   "execution_count": 3,
   "id": "c4cfc529-6406-45c7-90eb-1db5417551d8",
   "metadata": {},
   "outputs": [
    {
     "name": "stdout",
     "output_type": "stream",
     "text": [
      "{0, 1, 8, 9, 10}\n",
      "<class 'set'>\n"
     ]
    }
   ],
   "source": [
    "s1={1,8,9,0,10,9,0,1,9}\n",
    "print(s1)\n",
    "print(type(s1))"
   ]
  },
  {
   "cell_type": "code",
   "execution_count": 5,
   "id": "8c76865f-1e3b-4dcf-a752-20e55427b797",
   "metadata": {},
   "outputs": [
    {
     "name": "stdout",
     "output_type": "stream",
     "text": [
      "{0, 1, 8, 9, 10, 78, 20}\n",
      "<class 'set'>\n"
     ]
    }
   ],
   "source": [
    "list1=[1,8,9,0,10,20,78,8,8,8]\n",
    "s2=set(list1)\n",
    "print(s2)\n",
    "print(type(s2))"
   ]
  },
  {
   "cell_type": "code",
   "execution_count": 7,
   "id": "5e095a99-b65b-43d7-a651-7f3e02802455",
   "metadata": {},
   "outputs": [
    {
     "data": {
      "text/plain": [
       "{2, 3}"
      ]
     },
     "execution_count": 7,
     "metadata": {},
     "output_type": "execute_result"
    }
   ],
   "source": [
    "s1={2,3,5,6,7}\n",
    "s2={5,6,7}\n",
    "s1-s2"
   ]
  },
  {
   "cell_type": "code",
   "execution_count": 9,
   "id": "bce55dae-de73-4972-ad30-dcc769524c73",
   "metadata": {},
   "outputs": [
    {
     "data": {
      "text/plain": [
       "{1, 2, 3, 6, 7, 8}"
      ]
     },
     "execution_count": 9,
     "metadata": {},
     "output_type": "execute_result"
    }
   ],
   "source": [
    "s1={1,2,3,4,5}\n",
    "s2={4,5,6,7,8}\n",
    "s1.symmetric_difference(s2)"
   ]
  },
  {
   "cell_type": "code",
   "execution_count": 11,
   "id": "36735775-2343-4083-b83d-78c0ebe068ff",
   "metadata": {},
   "outputs": [
    {
     "data": {
      "text/plain": [
       "{1, 2, 3, 4, 7, 8}"
      ]
     },
     "execution_count": 11,
     "metadata": {},
     "output_type": "execute_result"
    }
   ],
   "source": [
    "s1={1,2,3,4}\n",
    "s2={2,4,7,8}\n",
    "s1|s2"
   ]
  },
  {
   "cell_type": "code",
   "execution_count": 13,
   "id": "24841cce-178f-440e-8c0b-6196513c0589",
   "metadata": {},
   "outputs": [
    {
     "data": {
      "text/plain": [
       "{2, 4}"
      ]
     },
     "execution_count": 13,
     "metadata": {},
     "output_type": "execute_result"
    }
   ],
   "source": [
    "s1={1,2,3,4}\n",
    "s2={2,4,7,8}\n",
    "s1&s2"
   ]
  },
  {
   "cell_type": "code",
   "execution_count": 15,
   "id": "1dd81405-b2e8-4c44-9851-cbb791b1c22a",
   "metadata": {},
   "outputs": [
    {
     "data": {
      "text/plain": [
       "True"
      ]
     },
     "execution_count": 15,
     "metadata": {},
     "output_type": "execute_result"
    }
   ],
   "source": [
    "s1={1,2,3,4,5}\n",
    "s2={1,2,3}\n",
    "s2.issubset(s1)"
   ]
  },
  {
   "cell_type": "code",
   "execution_count": 17,
   "id": "d2dc024f-99ad-4319-b569-de05a3b64703",
   "metadata": {},
   "outputs": [
    {
     "data": {
      "text/plain": [
       "False"
      ]
     },
     "execution_count": 17,
     "metadata": {},
     "output_type": "execute_result"
    }
   ],
   "source": [
    "s2.issuperset(s1)"
   ]
  },
  {
   "cell_type": "code",
   "execution_count": 19,
   "id": "c3cf2ee1-1c50-401b-9b75-3889adb22ff1",
   "metadata": {},
   "outputs": [
    {
     "data": {
      "text/plain": [
       "True"
      ]
     },
     "execution_count": 19,
     "metadata": {},
     "output_type": "execute_result"
    }
   ],
   "source": [
    "s1.issuperset(s2)"
   ]
  },
  {
   "cell_type": "code",
   "execution_count": 25,
   "id": "c2476d71-2a60-4073-8875-40ff0c40667f",
   "metadata": {},
   "outputs": [
    {
     "name": "stdout",
     "output_type": "stream",
     "text": [
      "Welcome to aiml class\n",
      "We started with python\n",
      "This is an awesome class\n"
     ]
    }
   ],
   "source": [
    "#string creation \n",
    "#used in text processing(any language)\n",
    "#immutable\n",
    "str1=\"Welcome to aiml class\"\n",
    "print(str1)\n",
    "str2='We started with python'\n",
    "print(str2)\n",
    "str3='''This is an awesome class'''\n",
    "print(str3)"
   ]
  },
  {
   "cell_type": "code",
   "execution_count": 37,
   "id": "ef7a946d-bb9e-4fe7-8b5a-404b36d672a1",
   "metadata": {},
   "outputs": [
    {
     "name": "stdout",
     "output_type": "stream",
     "text": [
      "<class 'str'>\n",
      "<class 'str'>\n",
      "<class 'str'>\n"
     ]
    }
   ],
   "source": [
    "str1=\"Welcome to aiml class\"\n",
    "print(type (str1))\n",
    "print(type(str2))\n",
    "print(type(str3))"
   ]
  },
  {
   "cell_type": "code",
   "execution_count": 39,
   "id": "fdc9f726-dad6-4a6f-a54a-248c7b44121a",
   "metadata": {},
   "outputs": [
    {
     "name": "stdout",
     "output_type": "stream",
     "text": [
      "Welcome to aiml class\n"
     ]
    },
    {
     "data": {
      "text/plain": [
       "'me to'"
      ]
     },
     "execution_count": 39,
     "metadata": {},
     "output_type": "execute_result"
    }
   ],
   "source": [
    "print(str1)#slicing\n",
    "str1[5:10]"
   ]
  },
  {
   "cell_type": "code",
   "execution_count": 41,
   "id": "55bc0510-f725-4a13-9321-dc53de06b023",
   "metadata": {},
   "outputs": [
    {
     "name": "stdout",
     "output_type": "stream",
     "text": [
      "Welcome to aiml class\n"
     ]
    },
    {
     "data": {
      "text/plain": [
       "['Welcome', 'to', 'aiml', 'class']"
      ]
     },
     "execution_count": 41,
     "metadata": {},
     "output_type": "execute_result"
    }
   ],
   "source": [
    "#string methods\n",
    "print(str1)\n",
    "str1.split()"
   ]
  },
  {
   "cell_type": "code",
   "execution_count": 49,
   "id": "0501fa1a-2c28-4e28-b3e4-5abe3a8f3241",
   "metadata": {},
   "outputs": [
    {
     "data": {
      "text/plain": [
       "'The product is awesome Great service'"
      ]
     },
     "execution_count": 49,
     "metadata": {},
     "output_type": "execute_result"
    }
   ],
   "source": [
    "reviews=[\"The product is awesome\", \"Great service\"]\n",
    "joined_string=' '.join(reviews)\n",
    "joined_string"
   ]
  },
  {
   "cell_type": "code",
   "execution_count": 55,
   "id": "991ed93e-aa00-4397-8f7c-42d61e700b2e",
   "metadata": {},
   "outputs": [
    {
     "data": {
      "text/plain": [
       "'   Hello, How are you?   '"
      ]
     },
     "execution_count": 55,
     "metadata": {},
     "output_type": "execute_result"
    }
   ],
   "source": [
    "str=\"   Hello, How are you?   \"\n",
    "str"
   ]
  },
  {
   "cell_type": "code",
   "execution_count": 59,
   "id": "4bf31e7b-1e82-42d8-8832-7fa298356880",
   "metadata": {},
   "outputs": [
    {
     "data": {
      "text/plain": [
       "'Hello, How are you?'"
      ]
     },
     "execution_count": 59,
     "metadata": {},
     "output_type": "execute_result"
    }
   ],
   "source": [
    "str.strip()"
   ]
  },
  {
   "cell_type": "code",
   "execution_count": 63,
   "id": "609d5e7d-8020-4dba-b772-c813ec5070a3",
   "metadata": {},
   "outputs": [
    {
     "data": {
      "text/plain": [
       "'   hello, how are you?   '"
      ]
     },
     "execution_count": 63,
     "metadata": {},
     "output_type": "execute_result"
    }
   ],
   "source": [
    "str=\"   Hello, How are you?   \"\n",
    "str.lower()"
   ]
  },
  {
   "cell_type": "code",
   "execution_count": 65,
   "id": "7c2094d9-e0ca-46b1-bb7d-c48eff046231",
   "metadata": {},
   "outputs": [
    {
     "data": {
      "text/plain": [
       "'   HELLO, HOW ARE YOU?   '"
      ]
     },
     "execution_count": 65,
     "metadata": {},
     "output_type": "execute_result"
    }
   ],
   "source": [
    "str.upper()"
   ]
  },
  {
   "cell_type": "code",
   "execution_count": null,
   "id": "f52a1284-43fc-4bcf-b110-a1f116f1ede0",
   "metadata": {},
   "outputs": [],
   "source": [
    "sales_data={\n",
    "    \"ProductID\":[101,102,103,104,105,106,107,108,109,110],\n",
    "    \"ProudctName\":[\"Laptop\",\"Mouse\",\"Keyboard\",\"Chair\",\"Desk\",\"Webcam\"],\n",
    "    \"Category\":[\"Electronics\",\"Accessories\",\"Accessories\",\"Furniture\",\"Accerssories\",\"Electronic\"],\n",
    "    \"StockAvailable\":[15,20,25,60,30,25,40,45,67,80]"
   ]
  },
  {
   "cell_type": "code",
   "execution_count": 71,
   "id": "eb88592b-b8f2-4b0d-a202-9ae01482b6a6",
   "metadata": {},
   "outputs": [
    {
     "name": "stdout",
     "output_type": "stream",
     "text": [
      "ram\n",
      "Shyam\n",
      "Ramya\n"
     ]
    }
   ],
   "source": [
    "d1={\"ram\":160,\"Shyam\":170,\"Ramya\":176}\n",
    "for k in d1.keys():\n",
    "    print(k)"
   ]
  },
  {
   "cell_type": "raw",
   "id": "44cf9e1f-ba5b-43e6-8d29-19c8bbe8c480",
   "metadata": {},
   "source": []
  }
 ],
 "metadata": {
  "kernelspec": {
   "display_name": "Python [conda env:base] *",
   "language": "python",
   "name": "conda-base-py"
  },
  "language_info": {
   "codemirror_mode": {
    "name": "ipython",
    "version": 3
   },
   "file_extension": ".py",
   "mimetype": "text/x-python",
   "name": "python",
   "nbconvert_exporter": "python",
   "pygments_lexer": "ipython3",
   "version": "3.12.7"
  }
 },
 "nbformat": 4,
 "nbformat_minor": 5
}
